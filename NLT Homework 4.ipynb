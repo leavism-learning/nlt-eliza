{
 "cells": [
  {
   "cell_type": "markdown",
   "metadata": {},
   "source": [
    "# Homework 4\n",
    "Next word predictor using a bigram language model\n",
    " \n",
    "> Input: A word\n",
    ">\n",
    "> Output : List of words that can follow the input word, and their corresponding probabilities \n",
    "\n",
    "Steps to follow:\n",
    "\n",
    "1. Build a bigram LM using the following two steps:\n",
    "\n",
    "    A. Use nltk to compile all the unique bigrams from the corpus you used for the previous assignment.  \n",
    "\n",
    "    B. Compute probability of each bigram using MLE (count(w1 w2)/count(w1)) \n",
    "\n",
    "2. Predict next word using the following steps:\n",
    "\n",
    "    A. Get an input word from user, inpW.\n",
    "\n",
    "    B. Use the bigram LM built in step 1 to find all the bigrams where the input word, inpW, is w1.  Display all possible next words from these bigrams and their corresponding probabilities.  (Sort in descending order on probabilities)\n",
    "\n",
    "-----\n",
    "\n",
    "Example:\n",
    "\n",
    "Toy Corpus: \"I will go to California to meet my friend\"\n",
    "\n",
    "Output of Step 1:\n",
    "\n",
    "Bigram model: \n",
    "P(will | I) = 1,\n",
    "\n",
    "P(go | will) = 1,\n",
    "\n",
    "P(to | go) = 1,\n",
    "\n",
    "P(California | to) = 0.5, \n",
    "\n",
    "P(to | California) = 1, \n",
    "\n",
    "P(meet | to) = 0.5, \n",
    "\n",
    "P(my | meet) = 1, \n",
    "\n",
    "P(friend | my) = 1\n",
    "\n",
    "\n",
    "User Input string: \"to\"\n",
    "\n",
    "\n",
    "Output: \"Possible next words: California: 0.5, meet: 0.5\""
   ]
  },
  {
   "cell_type": "markdown",
   "metadata": {},
   "source": []
  }
 ],
 "metadata": {
  "kernelspec": {
   "display_name": "Python 3",
   "language": "python",
   "name": "python3"
  },
  "language_info": {
   "codemirror_mode": {
    "name": "ipython",
    "version": 3
   },
   "file_extension": ".py",
   "mimetype": "text/x-python",
   "name": "python",
   "nbconvert_exporter": "python",
   "pygments_lexer": "ipython3",
   "version": "3.12.1"
  }
 },
 "nbformat": 4,
 "nbformat_minor": 2
}
